{
 "cells": [
  {
   "cell_type": "code",
   "execution_count": 23,
   "metadata": {},
   "outputs": [],
   "source": [
    "import requests\n",
    "page1 = requests.get(\"https://inshorts.com/en/read\")"
   ]
  },
  {
   "cell_type": "code",
   "execution_count": 24,
   "metadata": {},
   "outputs": [],
   "source": [
    "import pandas as pd\n",
    "df = pd.DataFrame(columns = ['txt','label'])"
   ]
  },
  {
   "cell_type": "code",
   "execution_count": 33,
   "metadata": {},
   "outputs": [
    {
     "data": {
      "text/html": [
       "<div>\n",
       "<style scoped>\n",
       "    .dataframe tbody tr th:only-of-type {\n",
       "        vertical-align: middle;\n",
       "    }\n",
       "\n",
       "    .dataframe tbody tr th {\n",
       "        vertical-align: top;\n",
       "    }\n",
       "\n",
       "    .dataframe thead th {\n",
       "        text-align: right;\n",
       "    }\n",
       "</style>\n",
       "<table border=\"1\" class=\"dataframe\">\n",
       "  <thead>\n",
       "    <tr style=\"text-align: right;\">\n",
       "      <th></th>\n",
       "      <th>txt</th>\n",
       "      <th>label</th>\n",
       "    </tr>\n",
       "  </thead>\n",
       "  <tbody>\n",
       "  </tbody>\n",
       "</table>\n",
       "</div>"
      ],
      "text/plain": [
       "Empty DataFrame\n",
       "Columns: [txt, label]\n",
       "Index: []"
      ]
     },
     "execution_count": 33,
     "metadata": {},
     "output_type": "execute_result"
    }
   ],
   "source": [
    "from bs4 import BeautifulSoup\n",
    "soup1 = BeautifulSoup(page1.content,'html.parser')\n",
    "span_class1 = soup1.find_all('span',attrs ={'itemprop' : 'headline'})\n",
    "#headlines = span_class.find_all(class_ = 'news-card-title news-right-box')\n",
    "#for i in span_class1:\n",
    "#    print(i.text)\n",
    "df"
   ]
  },
  {
   "cell_type": "code",
   "execution_count": 4,
   "metadata": {},
   "outputs": [
    {
     "name": "stdout",
     "output_type": "stream",
     "text": [
      "Pranab Mukherjee Didn't Hesitate To Accept RSS Invite: Mohan Bhagwat\n",
      "Puri Temple Officials Disagree On Top Court Order To Let Non-Hindus Enter\n",
      "ND Tiwari Develops Health Complications, Allegedly Shifted To ICU\n",
      "Ahead Of Key Meet Today, JD-U Says It'll Be Big Brother In 2019 In Bihar\n",
      "36-Year-Old Woman Injured In Mumbai's Andheri Bridge Collapse Dies\n",
      "NGO Alleges Threat From UP Police Over Fake Encounter\n",
      "Tribals Struggle In Tripura, Once Best Performer In MNREGA Implementation\n",
      "26-Year-Old Student From Telangana Shot Dead At Restaurant In Kansas City\n",
      "Hoax Bomb Threat Call Delays Howrah Rajdhani From Delhi\n",
      "Tribal Couple Killed In Jharkhand For Allegedly Practicing Black Magic\n",
      "Salman Khan Gets Notice For 'Illegal' Construction At Mumbai Farmhouse\n",
      "\"Unconstitutional\": TMC On PM Modi's \"One Nation, One Election\" Proposal\n",
      "Funds For Roads, Unauthorised Colonies Within 15 Days: Arvind Kejriwal\n",
      "3 Killed By Suspected Cow Smugglers In Meghalaya\n",
      "Man Sentenced To Death For Raping 9-Year-Old In Madhya Pradesh\n"
     ]
    }
   ],
   "source": [
    "page2 = requests.get(\"https://www.ndtv.com/top-stories\")\n",
    "soup = BeautifulSoup(page2.content,'html.parser')\n",
    "data = soup.find_all(class_ = \"nstory_header\")\n",
    "for i in data:\n",
    "    x = i.find_all('a')\n",
    "    print(x[0]['title'])\n",
    "#x=data[0].find_all('a')\n",
    "#x[0]['title']"
   ]
  },
  {
   "cell_type": "code",
   "execution_count": 5,
   "metadata": {},
   "outputs": [
    {
     "name": "stdout",
     "output_type": "stream",
     "text": [
      "1 Dead, Over 100 Rescued From Chinchoti Waterfall After Rains Lash Mumbai\n",
      "Public Works Department Asks Officials To Check Waterlogging During Rains\n",
      "Will Return To Pakistan In 10 Days: Maryam Nawaz Sharif\n",
      "\"Don't Approve\": Yashwant Sinha Slams Son Jayant For Garlanding Convicts\n",
      "\"Zakir Naik Will Never Get Access To Bangladesh\": Sheikh Hasina's Aide\n",
      "Dead Lizard In Delhi School's Mid-Day Meal Leaves 2 Girls Hospitalised\n",
      "BJP Lawmaker Blames Internet, Smartphones For Rise In Crimes Against Women\n",
      "Grand Alliance Of Opposition Parties Is Imaginary, Says BJP\n",
      "Shiv Sena Attacks BJP Over Water-Logging In Nagpur After Heavy Rains\n",
      "AIADMK Says It Favours Proposal For Simultaneous Polls, But After 2021\n",
      "Conditions 'Perfect' For Evacuation Of Thai Boys In Cave\n",
      "Mithun Chakraborty's Wife, Son Get Anticipatory Bail In Rape Case\n",
      "No Record Of 280 Births At Missionaries of Charity's Ranchi Facility\n",
      "Class 4 Boy \"Mercilessly\" Beaten Up By Principal In UP's Gorakhpur\n",
      "Centre Should Approach Court Over Confusion On Services: Arvind Kejriwal\n"
     ]
    }
   ],
   "source": [
    "page3 = requests.get(\"https://www.ndtv.com/top-stories/page-2\")\n",
    "soup = BeautifulSoup(page3.content,'html.parser')\n",
    "data = soup.find_all(class_ = \"nstory_header\")\n",
    "for i in data:\n",
    "    x = i.find_all('a')\n",
    "    print(x[0]['title'])\n",
    "#x=data[0].find_all('a')\n",
    "#x[0]['title']"
   ]
  },
  {
   "cell_type": "code",
   "execution_count": 7,
   "metadata": {},
   "outputs": [
    {
     "data": {
      "text/html": [
       "<div>\n",
       "<style scoped>\n",
       "    .dataframe tbody tr th:only-of-type {\n",
       "        vertical-align: middle;\n",
       "    }\n",
       "\n",
       "    .dataframe tbody tr th {\n",
       "        vertical-align: top;\n",
       "    }\n",
       "\n",
       "    .dataframe thead th {\n",
       "        text-align: right;\n",
       "    }\n",
       "</style>\n",
       "<table border=\"1\" class=\"dataframe\">\n",
       "  <thead>\n",
       "    <tr style=\"text-align: right;\">\n",
       "      <th></th>\n",
       "      <th>txt</th>\n",
       "      <th>label</th>\n",
       "    </tr>\n",
       "  </thead>\n",
       "  <tbody>\n",
       "  </tbody>\n",
       "</table>\n",
       "</div>"
      ],
      "text/plain": [
       "Empty DataFrame\n",
       "Columns: [txt, label]\n",
       "Index: []"
      ]
     },
     "execution_count": 7,
     "metadata": {},
     "output_type": "execute_result"
    }
   ],
   "source": [
    "\n",
    "    "
   ]
  },
  {
   "cell_type": "code",
   "execution_count": null,
   "metadata": {},
   "outputs": [],
   "source": []
  }
 ],
 "metadata": {
  "kernelspec": {
   "display_name": "Python 3",
   "language": "python",
   "name": "python3"
  },
  "language_info": {
   "codemirror_mode": {
    "name": "ipython",
    "version": 3
   },
   "file_extension": ".py",
   "mimetype": "text/x-python",
   "name": "python",
   "nbconvert_exporter": "python",
   "pygments_lexer": "ipython3",
   "version": "3.6.4"
  }
 },
 "nbformat": 4,
 "nbformat_minor": 2
}
