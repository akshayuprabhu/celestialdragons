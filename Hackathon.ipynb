{
 "cells": [
  {
   "cell_type": "code",
   "execution_count": 6,
   "metadata": {},
   "outputs": [],
   "source": [
    "import requests\n",
    "page1 = requests.get(\"https://inshorts.com/en/read\")"
   ]
  },
  {
   "cell_type": "code",
   "execution_count": 7,
   "metadata": {},
   "outputs": [],
   "source": [
    "import pandas as pd\n",
    "df = pd.DataFrame(columns = ['txt','label'])"
   ]
  },
  {
   "cell_type": "code",
   "execution_count": 8,
   "metadata": {},
   "outputs": [
    {
     "data": {
      "text/html": [
       "<div>\n",
       "<style scoped>\n",
       "    .dataframe tbody tr th:only-of-type {\n",
       "        vertical-align: middle;\n",
       "    }\n",
       "\n",
       "    .dataframe tbody tr th {\n",
       "        vertical-align: top;\n",
       "    }\n",
       "\n",
       "    .dataframe thead th {\n",
       "        text-align: right;\n",
       "    }\n",
       "</style>\n",
       "<table border=\"1\" class=\"dataframe\">\n",
       "  <thead>\n",
       "    <tr style=\"text-align: right;\">\n",
       "      <th></th>\n",
       "      <th>txt</th>\n",
       "      <th>label</th>\n",
       "    </tr>\n",
       "  </thead>\n",
       "  <tbody>\n",
       "  </tbody>\n",
       "</table>\n",
       "</div>"
      ],
      "text/plain": [
       "Empty DataFrame\n",
       "Columns: [txt, label]\n",
       "Index: []"
      ]
     },
     "execution_count": 8,
     "metadata": {},
     "output_type": "execute_result"
    }
   ],
   "source": [
    "from bs4 import BeautifulSoup\n",
    "soup1 = BeautifulSoup(page1.content,'html.parser')\n",
    "span_class1 = soup1.find_all('span',attrs ={'itemprop' : 'headline'})\n",
    "#headlines = span_class.find_all(class_ = 'news-card-title news-right-box')\n",
    "#for i in span_class1:\n",
    "#    print(i.text)\n",
    "df"
   ]
  },
  {
   "cell_type": "code",
   "execution_count": 9,
   "metadata": {},
   "outputs": [
    {
     "name": "stdout",
     "output_type": "stream",
     "text": [
      "In Unnao Rape Case, Charges Filed Against BJP Lawmaker's Brother, 4 Others\n",
      "Go To Top Court To Clear \"Confusion\", Arvind Kejriwal Tells LG, Centre\n",
      "Pranab Mukherjee Didn't Hesitate To Accept RSS Invite: Mohan Bhagwat\n",
      "Puri Temple Officials Disagree On Top Court Order To Let Non-Hindus Enter\n",
      "ND Tiwari Develops Health Complications, Allegedly Shifted To ICU\n",
      "Ahead Of Key Meet Today, JD-U Says It'll Be Big Brother In 2019 In Bihar\n",
      "36-Year-Old Woman Injured In Mumbai's Andheri Bridge Collapse Dies\n",
      "NGO Alleges Threat From UP Police Over Fake Encounter\n",
      "Tribals Struggle In Tripura, Once Best Performer In MNREGA Implementation\n",
      "26-Year-Old Student From Telangana Shot Dead At Restaurant In Kansas City\n",
      "Hoax Bomb Threat Call Delays Howrah Rajdhani From Delhi\n",
      "Tribal Couple Killed In Jharkhand For Allegedly Practicing Black Magic\n",
      "Salman Khan Gets Notice For 'Illegal' Construction At Mumbai Farmhouse\n",
      "\"Unconstitutional\": TMC On PM Modi's \"One Nation, One Election\" Proposal\n",
      "Funds For Roads, Unauthorised Colonies Within 15 Days: Arvind Kejriwal\n"
     ]
    }
   ],
   "source": [
    "page2 = requests.get(\"https://www.ndtv.com/top-stories\")\n",
    "soup = BeautifulSoup(page2.content,'html.parser')\n",
    "data = soup.find_all(class_ = \"nstory_header\")\n",
    "for i in data:\n",
    "    x = i.find_all('a')\n",
    "    print(x[0]['title'])\n",
    "#x=data[0].find_all('a')\n",
    "#x[0]['title']"
   ]
  },
  {
   "cell_type": "code",
   "execution_count": 17,
   "metadata": {},
   "outputs": [
    {
     "data": {
      "text/html": [
       "<div>\n",
       "<style scoped>\n",
       "    .dataframe tbody tr th:only-of-type {\n",
       "        vertical-align: middle;\n",
       "    }\n",
       "\n",
       "    .dataframe tbody tr th {\n",
       "        vertical-align: top;\n",
       "    }\n",
       "\n",
       "    .dataframe thead th {\n",
       "        text-align: right;\n",
       "    }\n",
       "</style>\n",
       "<table border=\"1\" class=\"dataframe\">\n",
       "  <thead>\n",
       "    <tr style=\"text-align: right;\">\n",
       "      <th></th>\n",
       "      <th>txt</th>\n",
       "      <th>label</th>\n",
       "    </tr>\n",
       "  </thead>\n",
       "  <tbody>\n",
       "    <tr>\n",
       "      <th>0</th>\n",
       "      <td>3 Killed By Suspected Cow Smugglers In Meghalaya</td>\n",
       "      <td>1</td>\n",
       "    </tr>\n",
       "    <tr>\n",
       "      <th>1</th>\n",
       "      <td>Man Sentenced To Death For Raping 9-Year-Old I...</td>\n",
       "      <td>1</td>\n",
       "    </tr>\n",
       "    <tr>\n",
       "      <th>2</th>\n",
       "      <td>1 Dead, Over 100 Rescued From Chinchoti Waterf...</td>\n",
       "      <td>1</td>\n",
       "    </tr>\n",
       "    <tr>\n",
       "      <th>3</th>\n",
       "      <td>Public Works Department Asks Officials To Chec...</td>\n",
       "      <td>1</td>\n",
       "    </tr>\n",
       "    <tr>\n",
       "      <th>4</th>\n",
       "      <td>Will Return To Pakistan In 10 Days: Maryam Naw...</td>\n",
       "      <td>1</td>\n",
       "    </tr>\n",
       "    <tr>\n",
       "      <th>5</th>\n",
       "      <td>\"Don't Approve\": Yashwant Sinha Slams Son Jaya...</td>\n",
       "      <td>1</td>\n",
       "    </tr>\n",
       "    <tr>\n",
       "      <th>6</th>\n",
       "      <td>\"Zakir Naik Will Never Get Access To Banglades...</td>\n",
       "      <td>1</td>\n",
       "    </tr>\n",
       "    <tr>\n",
       "      <th>7</th>\n",
       "      <td>Dead Lizard In Delhi School's Mid-Day Meal Lea...</td>\n",
       "      <td>1</td>\n",
       "    </tr>\n",
       "    <tr>\n",
       "      <th>8</th>\n",
       "      <td>BJP Lawmaker Blames Internet, Smartphones For ...</td>\n",
       "      <td>1</td>\n",
       "    </tr>\n",
       "    <tr>\n",
       "      <th>9</th>\n",
       "      <td>Grand Alliance Of Opposition Parties Is Imagin...</td>\n",
       "      <td>1</td>\n",
       "    </tr>\n",
       "    <tr>\n",
       "      <th>10</th>\n",
       "      <td>Shiv Sena Attacks BJP Over Water-Logging In Na...</td>\n",
       "      <td>1</td>\n",
       "    </tr>\n",
       "    <tr>\n",
       "      <th>11</th>\n",
       "      <td>AIADMK Says It Favours Proposal For Simultaneo...</td>\n",
       "      <td>1</td>\n",
       "    </tr>\n",
       "    <tr>\n",
       "      <th>12</th>\n",
       "      <td>Conditions 'Perfect' For Evacuation Of Thai Bo...</td>\n",
       "      <td>1</td>\n",
       "    </tr>\n",
       "    <tr>\n",
       "      <th>13</th>\n",
       "      <td>Mithun Chakraborty's Wife, Son Get Anticipator...</td>\n",
       "      <td>1</td>\n",
       "    </tr>\n",
       "    <tr>\n",
       "      <th>14</th>\n",
       "      <td>No Record Of 280 Births At Missionaries of Cha...</td>\n",
       "      <td>1</td>\n",
       "    </tr>\n",
       "  </tbody>\n",
       "</table>\n",
       "</div>"
      ],
      "text/plain": [
       "                                                  txt label\n",
       "0    3 Killed By Suspected Cow Smugglers In Meghalaya     1\n",
       "1   Man Sentenced To Death For Raping 9-Year-Old I...     1\n",
       "2   1 Dead, Over 100 Rescued From Chinchoti Waterf...     1\n",
       "3   Public Works Department Asks Officials To Chec...     1\n",
       "4   Will Return To Pakistan In 10 Days: Maryam Naw...     1\n",
       "5   \"Don't Approve\": Yashwant Sinha Slams Son Jaya...     1\n",
       "6   \"Zakir Naik Will Never Get Access To Banglades...     1\n",
       "7   Dead Lizard In Delhi School's Mid-Day Meal Lea...     1\n",
       "8   BJP Lawmaker Blames Internet, Smartphones For ...     1\n",
       "9   Grand Alliance Of Opposition Parties Is Imagin...     1\n",
       "10  Shiv Sena Attacks BJP Over Water-Logging In Na...     1\n",
       "11  AIADMK Says It Favours Proposal For Simultaneo...     1\n",
       "12  Conditions 'Perfect' For Evacuation Of Thai Bo...     1\n",
       "13  Mithun Chakraborty's Wife, Son Get Anticipator...     1\n",
       "14  No Record Of 280 Births At Missionaries of Cha...     1"
      ]
     },
     "execution_count": 17,
     "metadata": {},
     "output_type": "execute_result"
    }
   ],
   "source": [
    "page3 = requests.get(\"https://www.ndtv.com/top-stories/page-2\")\n",
    "soup = BeautifulSoup(page3.content,'html.parser')\n",
    "data = soup.find_all(class_ = \"nstory_header\")\n",
    "for i in data:\n",
    "    x = i.find_all('a')\n",
    "    #print(x)\n",
    "    #print('============')\n",
    "    t1=x[0]['title']\n",
    "    df.loc[len(df)]=(t1,1)\n",
    "#x=data[0].find_all('a')\n",
    "#x[0]['title']\n",
    "df"
   ]
  },
  {
   "cell_type": "code",
   "execution_count": null,
   "metadata": {},
   "outputs": [],
   "source": [
    "\n",
    "    "
   ]
  },
  {
   "cell_type": "code",
   "execution_count": 18,
   "metadata": {},
   "outputs": [
    {
     "name": "stdout",
     "output_type": "stream",
     "text": [
      "No Record Of 280 Births At Missionaries of Charity's Ranchi Facility\n",
      "Class 4 Boy \"Mercilessly\" Beaten Up By Principal In UP's Gorakhpur\n",
      "Centre Should Approach Court Over Confusion On Services: Arvind Kejriwal\n",
      "US Demand Of Irreversible Denuclearisation \"Troubling\", Says North Korea\n",
      "As China Tariff War Escalates, US Oil Sellers May Look To India\n",
      "Rajasthan Woman Allegedly Burnt Alive By Husband And Father-In-Law\n",
      "Hardik Patel, Jignesh Mevani Charged Over 'Raid' At Woman's House\n",
      "Standard Of Living Has Improved Since BJP Came To Power: Yogi Adityanath\n",
      "Canadian Mountaineer Falls To Death On Mount K2\n",
      "Dawood Ibrahim Aide Naim Khan, Wife Arrested For AK-56 Rifle Possession\n",
      "Will Nirbhaya Rapists Be Spared Death? Supreme Court To Decide On Monday\n",
      "5.9-Magnitude Earthquake Felt In Tokyo, No Tsunami Warning\n",
      "Not Averse To Working With Congress To Oust BJP: Mamata Banerjee\n",
      "\"Floating Bodies Drifting In The Sea\": Thai Boat Tragedy Leaves 37 Dead\n",
      "CRPF Jawan Injured In Grenade Attack In Srinagar\n"
     ]
    },
    {
     "ename": "TypeError",
     "evalue": "unsupported operand type(s) for +: 'Tag' and 'int'",
     "output_type": "error",
     "traceback": [
      "\u001b[0;31m---------------------------------------------------------------------------\u001b[0m",
      "\u001b[0;31mTypeError\u001b[0m                                 Traceback (most recent call last)",
      "\u001b[0;32m<ipython-input-18-014997f2e5ec>\u001b[0m in \u001b[0;36m<module>\u001b[0;34m()\u001b[0m\n\u001b[1;32m     11\u001b[0m     \u001b[0;31m#x=data[0].find_all('a')\u001b[0m\u001b[0;34m\u001b[0m\u001b[0;34m\u001b[0m\u001b[0m\n\u001b[1;32m     12\u001b[0m     \u001b[0;31m#x[0]['title']\u001b[0m\u001b[0;34m\u001b[0m\u001b[0;34m\u001b[0m\u001b[0m\n\u001b[0;32m---> 13\u001b[0;31m     \u001b[0mi\u001b[0m\u001b[0;34m=\u001b[0m\u001b[0mi\u001b[0m\u001b[0;34m+\u001b[0m\u001b[0;36m1\u001b[0m\u001b[0;34m\u001b[0m\u001b[0m\n\u001b[0m",
      "\u001b[0;31mTypeError\u001b[0m: unsupported operand type(s) for +: 'Tag' and 'int'"
     ]
    }
   ],
   "source": [
    "i=3\n",
    "while(i<14):\n",
    "    \n",
    "    page3 = requests.get(\"https://www.ndtv.com/top-stories/page-\"+str(i))\n",
    "    i=int(i)\n",
    "    soup = BeautifulSoup(page3.content,'html.parser')\n",
    "    data = soup.find_all(class_ = \"nstory_header\")\n",
    "    for i in data:\n",
    "        x = i.find_all('a')\n",
    "        print(x[0]['title'])\n",
    "    #x=data[0].find_all('a')\n",
    "    #x[0]['title']\n",
    "    i=i+1"
   ]
  },
  {
   "cell_type": "code",
   "execution_count": 4,
   "metadata": {},
   "outputs": [
    {
     "data": {
      "text/plain": [
       "'https://www.ndtv.com/top-stories/page-3'"
      ]
     },
     "execution_count": 4,
     "metadata": {},
     "output_type": "execute_result"
    }
   ],
   "source": [
    "\"https://www.ndtv.com/top-stories/page-\"+str(i)"
   ]
  },
  {
   "cell_type": "code",
   "execution_count": null,
   "metadata": {},
   "outputs": [],
   "source": []
  }
 ],
 "metadata": {
  "kernelspec": {
   "display_name": "Python 3",
   "language": "python",
   "name": "python3"
  },
  "language_info": {
   "codemirror_mode": {
    "name": "ipython",
    "version": 3
   },
   "file_extension": ".py",
   "mimetype": "text/x-python",
   "name": "python",
   "nbconvert_exporter": "python",
   "pygments_lexer": "ipython3",
   "version": "3.6.5"
  }
 },
 "nbformat": 4,
 "nbformat_minor": 2
}
